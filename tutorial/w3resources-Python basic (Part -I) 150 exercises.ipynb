{
 "cells": [
  {
   "cell_type": "code",
   "execution_count": 2,
   "metadata": {},
   "outputs": [
    {
     "name": "stdout",
     "output_type": "stream",
     "text": [
      "Twinkle, twinkle, little star,\n",
      "\tHow I wonder what you are! \n",
      "\t\tUp above the world so high, \n",
      "\t\t\tLike a diamond in the sky. \n",
      "Twinkle, twinkle, little star, \n",
      "\tHow I wonder what you are\n"
     ]
    }
   ],
   "source": [
    "print(\"Twinkle, twinkle, little star,\\n\\tHow I wonder what you are! \\n\\t\\tUp above the world so high, \\n\\t\\t\\tLike a diamond in the sky. \\nTwinkle, twinkle, little star, \\n\\tHow I wonder what you are\")"
   ]
  },
  {
   "cell_type": "code",
   "execution_count": 5,
   "metadata": {},
   "outputs": [
    {
     "output_type": "stream",
     "name": "stdout",
     "text": [
      "Python version :  3.8.8 (default, Apr 13 2021, 15:08:03) [MSC v.1916 64 bit (AMD64)]\n"
     ]
    }
   ],
   "source": [
    "import sys\n",
    "print('Python version : ',sys.version)\n",
    "\n"
   ]
  },
  {
   "cell_type": "code",
   "execution_count": 1,
   "metadata": {},
   "outputs": [
    {
     "name": "stdout",
     "output_type": "stream",
     "text": [
      "the current time is :\n",
      "2021-08-18 03:55:18.722734\n"
     ]
    }
   ],
   "source": [
    "import datetime\n",
    "\n",
    "print(\"the current time is :\")\n",
    "\n",
    "print(datetime.datetime.now())"
   ]
  },
  {
   "cell_type": "code",
   "execution_count": 13,
   "metadata": {},
   "outputs": [
    {
     "output_type": "stream",
     "name": "stdout",
     "text": [
      "input radius of circle : \n",
      "wrong input\n"
     ]
    }
   ],
   "source": [
    "from math import pi\n",
    "\n",
    "\n",
    "print( 'input radius of circle : ')\n",
    "raduis = input()\n",
    "if raduis.isnumeric():\n",
    "    raduis = int(raduis)\n",
    "    area = pi * raduis * raduis\n",
    "    print(\"raduis of circle with radius \"+str(raduis) +\" is \"+str(area))\n",
    "else:\n",
    "    print ('wrong input')"
   ]
  },
  {
   "cell_type": "code",
   "execution_count": 14,
   "metadata": {},
   "outputs": [
    {
     "output_type": "stream",
     "name": "stdout",
     "text": [
      "what is your first name : \n",
      "what is your last name : \n",
      "you name is aidoo paa-kofi\n"
     ]
    }
   ],
   "source": [
    "print(\"what is your first name : \")\n",
    "firstName = str(input())\n",
    "print(\"what is your last name : \")\n",
    "lastName = str(input())\n",
    "\n",
    "print(f\"you name is {lastName} {firstName}\")"
   ]
  },
  {
   "cell_type": "code",
   "execution_count": 28,
   "metadata": {},
   "outputs": [
    {
     "output_type": "stream",
     "name": "stdout",
     "text": [
      "input a sequence of comma-separated numbers :\n",
      "List : []\n",
      "Tuple ()\n"
     ]
    }
   ],
   "source": [
    "print(\"input a sequence of comma-separated numbers :\")\n",
    "sequence=input()\n",
    "sequence=sequence.split(\",\")\n",
    "output =[]\n",
    "\n",
    "for val in sequence:\n",
    "    if val.isdigit():\n",
    "        output.append(val)\n",
    "     \n",
    "print(f'List : {output}')\n",
    "print(f\"Tuple {tuple(output)}\")"
   ]
  },
  {
   "cell_type": "code",
   "execution_count": 35,
   "metadata": {},
   "outputs": [
    {
     "output_type": "stream",
     "name": "stdout",
     "text": [
      "input filename with extention : \n",
      "java \n"
     ]
    }
   ],
   "source": [
    "print('input filename with extention : ')\n",
    "fileName =input().split(\".\")\n",
    "print(fileName[1])\n"
   ]
  },
  {
   "cell_type": "code",
   "execution_count": 36,
   "metadata": {},
   "outputs": [
    {
     "output_type": "stream",
     "name": "stdout",
     "text": [
      "Red Black\n"
     ]
    }
   ],
   "source": [
    "color_list = [\"Red\",\"Green\",\"White\" ,\"Black\"]\n",
    "print(color_list[0], color_list[-1])"
   ]
  }
 ],
 "metadata": {
  "interpreter": {
   "hash": "c08c3e3b61a5474c253276513941a921e568c04ba3ccfae9e370b75969632883"
  },
  "kernelspec": {
   "name": "python3",
   "display_name": "Python 3.8.8 64-bit ('base': conda)"
  },
  "language_info": {
   "codemirror_mode": {
    "name": "ipython",
    "version": 3
   },
   "file_extension": ".py",
   "mimetype": "text/x-python",
   "name": "python",
   "nbconvert_exporter": "python",
   "pygments_lexer": "ipython3",
   "version": "3.8.8"
  }
 },
 "nbformat": 4,
 "nbformat_minor": 2
}
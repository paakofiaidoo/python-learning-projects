{
 "cells": [
  {
   "cell_type": "code",
   "execution_count": 2,
   "metadata": {},
   "outputs": [
    {
     "name": "stdout",
     "output_type": "stream",
     "text": [
      "Twinkle, twinkle, little star,\n",
      "\tHow I wonder what you are! \n",
      "\t\tUp above the world so high, \n",
      "\t\t\tLike a diamond in the sky. \n",
      "Twinkle, twinkle, little star, \n",
      "\tHow I wonder what you are\n"
     ]
    }
   ],
   "source": [
    "print(\"Twinkle, twinkle, little star,\\n\\tHow I wonder what you are! \\n\\t\\tUp above the world so high, \\n\\t\\t\\tLike a diamond in the sky. \\nTwinkle, twinkle, little star, \\n\\tHow I wonder what you are\")"
   ]
  },
  {
   "cell_type": "code",
   "execution_count": 5,
   "metadata": {},
   "outputs": [
    {
     "output_type": "stream",
     "name": "stdout",
     "text": [
      "Python version :  3.8.8 (default, Apr 13 2021, 15:08:03) [MSC v.1916 64 bit (AMD64)]\n"
     ]
    }
   ],
   "source": [
    "import sys\n",
    "print('Python version : ',sys.version)\n",
    "\n"
   ]
  },
  {
   "cell_type": "code",
   "execution_count": 1,
   "metadata": {},
   "outputs": [
    {
     "name": "stdout",
     "output_type": "stream",
     "text": [
      "the current time is :\n",
      "2021-08-18 03:55:18.722734\n"
     ]
    }
   ],
   "source": [
    "import datetime\n",
    "\n",
    "print(\"the current time is :\")\n",
    "\n",
    "print(datetime.datetime.now())"
   ]
  },
  {
   "cell_type": "code",
   "execution_count": 13,
   "metadata": {},
   "outputs": [
    {
     "output_type": "stream",
     "name": "stdout",
     "text": [
      "input radius of circle : \n",
      "wrong input\n"
     ]
    }
   ],
   "source": [
    "from math import pi\n",
    "\n",
    "\n",
    "print( 'input radius of circle : ')\n",
    "raduis = input()\n",
    "if raduis.isnumeric():\n",
    "    raduis = int(raduis)\n",
    "    area = pi * raduis * raduis\n",
    "    print(\"raduis of circle with radius \"+str(raduis) +\" is \"+str(area))\n",
    "else:\n",
    "    print ('wrong input')"
   ]
  },
  {
   "cell_type": "code",
   "execution_count": 14,
   "metadata": {},
   "outputs": [
    {
     "output_type": "stream",
     "name": "stdout",
     "text": [
      "what is your first name : \n",
      "what is your last name : \n",
      "you name is aidoo paa-kofi\n"
     ]
    }
   ],
   "source": [
    "print(\"what is your first name : \")\n",
    "firstName = str(input())\n",
    "print(\"what is your last name : \")\n",
    "lastName = str(input())\n",
    "\n",
    "print(f\"you name is {lastName} {firstName}\")"
   ]
  },
  {
   "cell_type": "code",
   "execution_count": 28,
   "metadata": {},
   "outputs": [
    {
     "output_type": "stream",
     "name": "stdout",
     "text": [
      "input a sequence of comma-separated numbers :\n",
      "List : []\n",
      "Tuple ()\n"
     ]
    }
   ],
   "source": [
    "print(\"input a sequence of comma-separated numbers :\")\n",
    "sequence=input()\n",
    "sequence=sequence.split(\",\")\n",
    "output =[]\n",
    "\n",
    "for val in sequence:\n",
    "    if val.isdigit():\n",
    "        output.append(val)\n",
    "     \n",
    "print(f'List : {output}')\n",
    "print(f\"Tuple {tuple(output)}\")"
   ]
  },
  {
   "cell_type": "code",
   "execution_count": 35,
   "metadata": {},
   "outputs": [
    {
     "output_type": "stream",
     "name": "stdout",
     "text": [
      "input filename with extention : \n",
      "java \n"
     ]
    }
   ],
   "source": [
    "print('input filename with extention : ')\n",
    "fileName =input().split(\".\")\n",
    "print(fileName[1])\n"
   ]
  },
  {
   "cell_type": "code",
   "execution_count": 36,
   "metadata": {},
   "outputs": [
    {
     "output_type": "stream",
     "name": "stdout",
     "text": [
      "Red Black\n"
     ]
    }
   ],
   "source": [
    "color_list = [\"Red\",\"Green\",\"White\" ,\"Black\"]\n",
    "print(color_list[0], color_list[-1])"
   ]
  },
  {
   "cell_type": "code",
   "execution_count": 62,
   "metadata": {},
   "outputs": [
    {
     "output_type": "stream",
     "name": "stdout",
     "text": [
      "The examination will start from : 11 / 12 / 2014\n"
     ]
    }
   ],
   "source": [
    "exam_st_date = (11, 12, 2014)\n",
    "\n",
    "date_str= \"\"\n",
    "\n",
    "for time in exam_st_date:\n",
    "    date_str += str(time)+\" / \"\n",
    "\n",
    "date_str=date_str.strip(\"/ \")\n",
    "\n",
    "print(f\"The examination will start from : {date_str}\"n)"
   ]
  },
  {
   "cell_type": "code",
   "execution_count": 3,
   "metadata": {},
   "outputs": [
    {
     "output_type": "stream",
     "name": "stdout",
     "text": [
      "input interger : \n",
      "14\n"
     ]
    }
   ],
   "source": [
    "print (\"input interger : \")\n",
    "intger = int(input())\n",
    "def n (x):\n",
    "    return x+x*x+x*x*x\n",
    "\n",
    "print( n(intger))\n"
   ]
  },
  {
   "cell_type": "code",
   "execution_count": 5,
   "metadata": {},
   "outputs": [
    {
     "output_type": "stream",
     "name": "stdout",
     "text": [
      "Help on built-in function abs in module builtins:\n\nabs(x, /)\n    Return the absolute value of the argument.\n\nNone\n"
     ]
    }
   ],
   "source": [
    "print(help(input(\"input Python built-in function(s)\")))"
   ]
  },
  {
   "cell_type": "code",
   "execution_count": 13,
   "metadata": {
    "tags": []
   },
   "outputs": [
    {
     "output_type": "execute_result",
     "data": {
      "text/plain": [
       "[[0, 0, 0, 0, 0, 0, 1],\n",
       " [2, 3, 4, 5, 6, 7, 8],\n",
       " [9, 10, 11, 12, 13, 14, 15],\n",
       " [16, 17, 18, 19, 20, 21, 22],\n",
       " [23, 24, 25, 26, 27, 28, 29],\n",
       " [30, 31, 0, 0, 0, 0, 0]]"
      ]
     },
     "metadata": {},
     "execution_count": 13
    }
   ],
   "source": [
    "import calendar\n",
    "calendar.monthcalendar(int(input(\"input the year\")),int(input(\"input the month\")))\n"
   ]
  },
  {
   "cell_type": "code",
   "execution_count": 14,
   "metadata": {},
   "outputs": [
    {
     "output_type": "stream",
     "name": "stdout",
     "text": [
      "a string that you \"don't\" have to escape\nThis\nis a ....... multi-line\nheredoc string --------> example\n"
     ]
    }
   ],
   "source": [
    "print(\"\"\"a string that you \"don't\" have to escape\n",
    "This\n",
    "is a ....... multi-line\n",
    "heredoc string --------> example\"\"\")"
   ]
  },
  {
   "cell_type": "code",
   "execution_count": 17,
   "metadata": {
    "tags": []
   },
   "outputs": [
    {
     "output_type": "stream",
     "name": "stdout",
     "text": [
      "9 days, 0:00:00\n"
     ]
    }
   ],
   "source": [
    "from datetime import date \n",
    "def subDate(firstDate, lastDate\n",
    " \n",
    "    (year, month, day)=firstDate\n",
    "    (yearLast, monthLast, dayLast)=lastDate\n",
    "\n",
    "    timeLeft = date(yearLast, monthLast, dayLast) - date(year, month, day)\n",
    "    print(timeLeft)   pr\n",
    "subDate()((2014, 7, 2), (2014, 7, 11))"
   ]
  },
  {
   "cell_type": "code",
   "execution_count": 25,
   "metadata": {},
   "outputs": [
    {
     "output_type": "stream",
     "name": "stdout",
     "text": [
      "904.7786842338603\n"
     ]
    }
   ],
   "source": [
    "from math import pi\n",
    "def volSphere(radius):\n",
    "    vol = 4/3 * pi * radius**3\n",
    "    return vol\n",
    "\n",
    "print(volSphere(6))"
   ]
  }
 ],
 "metadata": {
  "interpreter": {
   "hash": "c08c3e3b61a5474c253276513941a921e568c04ba3ccfae9e370b75969632883"
  },
  "kernelspec": {
   "name": "python3",
   "display_name": "Python 3.8.8 64-bit ('base': conda)"
  },
  "language_info": {
   "codemirror_mode": {
    "name": "ipython",
    "version": 3
   },
   "file_extension": ".py",
   "mimetype": "text/x-python",
   "name": "python",
   "nbconvert_exporter": "python",
   "pygments_lexer": "ipython3",
   "version": "3.8.8"
  }
 },
 "nbformat": 4,
 "nbformat_minor": 2
}
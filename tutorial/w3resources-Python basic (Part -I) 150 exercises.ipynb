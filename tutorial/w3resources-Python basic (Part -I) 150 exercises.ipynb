{
 "cells": [
  {
   "cell_type": "code",
   "execution_count": 6,
   "metadata": {},
   "outputs": [
    {
     "name": "stdout",
     "output_type": "stream",
     "text": [
      "Twinkle, twinkle, little star,\n",
      "\tHow I wonder what you are! \n",
      "\t\tUp above the world so high, \n",
      "\t\t\tLike a diamond in the sky. \n",
      "Twinkle, twinkle, little star, \n",
      "\tHow I wonder what you are\n"
     ]
    }
   ],
   "source": [
    "##exe 1\n",
    "print(\"Twinkle, twinkle, little star,\\n\\tHow I wonder what you are! \\n\\t\\tUp above the world so high, \\n\\t\\t\\tLike a diamond in the sky. \\nTwinkle, twinkle, little star, \\n\\tHow I wonder what you are\")"
   ]
  },
  {
   "cell_type": "code",
   "execution_count": 7,
   "metadata": {},
   "outputs": [
    {
     "name": "stdout",
     "output_type": "stream",
     "text": [
      "Python version :  3.8.8 (default, Apr 13 2021, 15:08:03) [MSC v.1916 64 bit (AMD64)]\n"
     ]
    }
   ],
   "source": [
    "##exe 2\n",
    "import sys\n",
    "print('Python version : ',sys.version)\n",
    "\n"
   ]
  },
  {
   "cell_type": "code",
   "execution_count": 8,
   "metadata": {},
   "outputs": [
    {
     "name": "stdout",
     "output_type": "stream",
     "text": [
      "the current time is :\n",
      "2021-10-10 21:02:23.249385\n"
     ]
    }
   ],
   "source": [
    "#exe 3\n",
    "import datetime\n",
    "\n",
    "print(\"the current time is :\")\n",
    "\n",
    "print(datetime.datetime.now())"
   ]
  },
  {
   "cell_type": "code",
   "execution_count": 77,
   "metadata": {},
   "outputs": [
    {
     "name": "stdout",
     "output_type": "stream",
     "text": [
      "input radius of circle : \n",
      "raduis of circle with radius 2 is 12.566370614359172\n"
     ]
    }
   ],
   "source": [
    "#exe 4\n",
    "from math import pi\n",
    "\n",
    "print( 'input radius of circle : ')\n",
    "raduis = input()\n",
    "if raduis.isnumeric():\n",
    "    raduis = int(raduis)\n",
    "    area = pi * raduis * raduis\n",
    "    print(\"raduis of circle with radius \"+str(raduis) +\" is \"+str(area))\n",
    "else:\n",
    "    print ('wrong input')"
   ]
  },
  {
   "cell_type": "code",
   "execution_count": 78,
   "metadata": {},
   "outputs": [
    {
     "name": "stdout",
     "output_type": "stream",
     "text": [
      "what is your first name : \n"
     ]
    }
   ],
   "source": [
    "#exe 5\n",
    "print(\"what is your first name : \")\n",
    "firstName = str(input())\n",
    "print(\"what is your last name : \")\n",
    "lastName = str(input())\n",
    "\n",
    "print(f\"you name is {lastName} {firstName}\")"
   ]
  },
  {
   "cell_type": "code",
   "execution_count": null,
   "metadata": {},
   "outputs": [
    {
     "name": "stdout",
     "output_type": "stream",
     "text": [
      "input a sequence of comma-separated numbers :\n",
      "List : []\n",
      "Tuple ()\n"
     ]
    }
   ],
   "source": [
    "#exe 6\n",
    "print(\"input a sequence of comma-separated numbers :\")\n",
    "sequence=input()\n",
    "sequence=sequence.split(\",\")\n",
    "output =[]\n",
    "\n",
    "for val in sequence:\n",
    "    if val.isdigit():\n",
    "        output.append(val)\n",
    "     \n",
    "print(f'List : {output}')\n",
    "print(f\"Tuple {tuple(output)}\")"
   ]
  },
  {
   "cell_type": "code",
   "execution_count": null,
   "metadata": {},
   "outputs": [
    {
     "name": "stdout",
     "output_type": "stream",
     "text": [
      "input filename with extention : \n"
     ]
    },
    {
     "ename": "IndexError",
     "evalue": "list index out of range",
     "output_type": "error",
     "traceback": [
      "\u001b[1;31m---------------------------------------------------------------------------\u001b[0m",
      "\u001b[1;31mIndexError\u001b[0m                                Traceback (most recent call last)",
      "\u001b[1;32m<ipython-input-12-a9a7c26e84d1>\u001b[0m in \u001b[0;36m<module>\u001b[1;34m\u001b[0m\n\u001b[0;32m      2\u001b[0m \u001b[0mprint\u001b[0m\u001b[1;33m(\u001b[0m\u001b[1;34m'input filename with extention : '\u001b[0m\u001b[1;33m)\u001b[0m\u001b[1;33m\u001b[0m\u001b[1;33m\u001b[0m\u001b[0m\n\u001b[0;32m      3\u001b[0m \u001b[0mfileName\u001b[0m \u001b[1;33m=\u001b[0m\u001b[0minput\u001b[0m\u001b[1;33m(\u001b[0m\u001b[1;33m)\u001b[0m\u001b[1;33m.\u001b[0m\u001b[0msplit\u001b[0m\u001b[1;33m(\u001b[0m\u001b[1;34m\".\"\u001b[0m\u001b[1;33m)\u001b[0m\u001b[1;33m\u001b[0m\u001b[1;33m\u001b[0m\u001b[0m\n\u001b[1;32m----> 4\u001b[1;33m \u001b[0mprint\u001b[0m\u001b[1;33m(\u001b[0m\u001b[0mfileName\u001b[0m\u001b[1;33m[\u001b[0m\u001b[1;36m1\u001b[0m\u001b[1;33m]\u001b[0m\u001b[1;33m)\u001b[0m\u001b[1;33m\u001b[0m\u001b[1;33m\u001b[0m\u001b[0m\n\u001b[0m",
      "\u001b[1;31mIndexError\u001b[0m: list index out of range"
     ]
    }
   ],
   "source": [
    "#exe 7\n",
    "print('input filename with extention : ')\n",
    "fileName =input().split(\".\")\n",
    "print(fileName[1])\n"
   ]
  },
  {
   "cell_type": "code",
   "execution_count": null,
   "metadata": {},
   "outputs": [
    {
     "name": "stdout",
     "output_type": "stream",
     "text": [
      "Red Black\n"
     ]
    }
   ],
   "source": [
    "#exe 8\n",
    "color_list = [\"Red\",\"Green\",\"White\" ,\"Black\"]\n",
    "print(color_list[0], color_list[-1])"
   ]
  },
  {
   "cell_type": "code",
   "execution_count": null,
   "metadata": {},
   "outputs": [
    {
     "name": "stdout",
     "output_type": "stream",
     "text": [
      "The examination will start from : 11 / 12 / 2014\n"
     ]
    }
   ],
   "source": [
    "#exe 9\n",
    "exam_st_date = (11, 12, 2014)\n",
    "\n",
    "date_str= \"\"\n",
    "\n",
    "for time in exam_st_date:\n",
    "    date_str += str(time)+\" / \"\n",
    "\n",
    "date_str=date_str.strip(\"/ \")\n",
    "\n",
    "print(f\"The examination will start from : {date_str}\"n)"
   ]
  },
  {
   "cell_type": "code",
   "execution_count": null,
   "metadata": {},
   "outputs": [
    {
     "name": "stdout",
     "output_type": "stream",
     "text": [
      "input interger : \n",
      "14\n"
     ]
    }
   ],
   "source": [
    "#exe 10\n",
    "print (\"input interger : \")\n",
    "intger = int(input())\n",
    "def n (x):\n",
    "    return x+x*x+x*x*x\n",
    "\n",
    "print( n(intger))\n"
   ]
  },
  {
   "cell_type": "code",
   "execution_count": null,
   "metadata": {},
   "outputs": [
    {
     "name": "stdout",
     "output_type": "stream",
     "text": [
      "Help on built-in function abs in module builtins:\n",
      "\n",
      "abs(x, /)\n",
      "    Return the absolute value of the argument.\n",
      "\n",
      "None\n"
     ]
    }
   ],
   "source": [
    "#exe 11\n",
    "print(help(input(\"input Python built-in function(s)\")))"
   ]
  },
  {
   "cell_type": "code",
   "execution_count": null,
   "metadata": {
    "tags": []
   },
   "outputs": [
    {
     "data": {
      "text/plain": [
       "[[0, 0, 0, 0, 0, 0, 1],\n",
       " [2, 3, 4, 5, 6, 7, 8],\n",
       " [9, 10, 11, 12, 13, 14, 15],\n",
       " [16, 17, 18, 19, 20, 21, 22],\n",
       " [23, 24, 25, 26, 27, 28, 29],\n",
       " [30, 31, 0, 0, 0, 0, 0]]"
      ]
     },
     "execution_count": 13,
     "metadata": {},
     "output_type": "execute_result"
    }
   ],
   "source": [
    "#exe 12\n",
    "import calendar\n",
    "calendar.monthcalendar(int(input(\"input the year\")),int(input(\"input the month\")))\n"
   ]
  },
  {
   "cell_type": "code",
   "execution_count": null,
   "metadata": {},
   "outputs": [
    {
     "name": "stdout",
     "output_type": "stream",
     "text": [
      "a string that you \"don't\" have to escape\n",
      "This\n",
      "is a ....... multi-line\n",
      "heredoc string --------> example\n"
     ]
    }
   ],
   "source": [
    "#exe 13\n",
    "print(\"\"\"a string that you \"don't\" have to escape\n",
    "This\n",
    "is a ....... multi-line\n",
    "heredoc string --------> example\"\"\")"
   ]
  },
  {
   "cell_type": "code",
   "execution_count": null,
   "metadata": {
    "tags": []
   },
   "outputs": [
    {
     "name": "stdout",
     "output_type": "stream",
     "text": [
      "9 days, 0:00:00\n"
     ]
    }
   ],
   "source": [
    "#exe 14\n",
    "from datetime import date \n",
    "def subDate(firstDate, lastDate):\n",
    "    (year, month, day)=firstDate\n",
    "    (yearLast, monthLast, dayLast)=lastDate\n",
    "\n",
    "    timeLeft = date(yearLast, monthLast, dayLast) - date(year, month, day)\n",
    "    print(timeLeft)\n",
    "subDate((2014, 7, 2), (2014, 7, 11))"
   ]
  },
  {
   "cell_type": "code",
   "execution_count": null,
   "metadata": {},
   "outputs": [
    {
     "name": "stdout",
     "output_type": "stream",
     "text": [
      "904.7786842338603\n"
     ]
    }
   ],
   "source": [
    "#exe 15\n",
    "from math import pi\n",
    "def volSphere(radius):\n",
    "    vol = 4/3 * pi * radius**3\n",
    "    return vol\n",
    "\n",
    "print(volSphere(6))"
   ]
  },
  {
   "cell_type": "code",
   "execution_count": null,
   "metadata": {},
   "outputs": [
    {
     "data": {
      "text/plain": [
       "6"
      ]
     },
     "execution_count": 71,
     "metadata": {},
     "output_type": "execute_result"
    }
   ],
   "source": [
    "#exe 16\n",
    "val = int(input(\"input any integer\"))\n",
    "\n",
    "def diff (value):\n",
    "    value =  value - 17\n",
    "    if value > 17:\n",
    "        return value * 2\n",
    "    return value \n",
    "\n",
    "diff(val)"
   ]
  },
  {
   "cell_type": "code",
   "execution_count": null,
   "metadata": {},
   "outputs": [
    {
     "data": {
      "text/plain": [
       "'is not in range 100 and 2000'"
      ]
     },
     "execution_count": 72,
     "metadata": {},
     "output_type": "execute_result"
    }
   ],
   "source": [
    "#exe 17\n",
    "val = int(input(\"input any integer\"))\n",
    "\n",
    "def isBtn(x, start=100, end=2000):\n",
    "    if x>start and x<end:\n",
    "        return \"is in range 100 and 2000\"\n",
    "    return \"is not in range 100 and 2000\"\n",
    "\n",
    "isBtn(val)\n"
   ]
  },
  {
   "cell_type": "code",
   "execution_count": null,
   "metadata": {},
   "outputs": [
    {
     "data": {
      "text/plain": [
       "27"
      ]
     },
     "execution_count": 73,
     "metadata": {},
     "output_type": "execute_result"
    }
   ],
   "source": [
    "#exe 18\n",
    "\n",
    "def sum (first=0, second=0, third=0):\n",
    "    result = first+second+third\n",
    "    if first == second and second == third:\n",
    "        return result * 3\n",
    "    return result\n",
    "sum(3,3,3)\n",
    "    "
   ]
  },
  {
   "cell_type": "code",
   "execution_count": null,
   "metadata": {},
   "outputs": [
    {
     "data": {
      "text/plain": [
       "'Is'"
      ]
     },
     "execution_count": 74,
     "metadata": {},
     "output_type": "execute_result"
    }
   ],
   "source": [
    "#exe 19\n",
    "\n",
    "def exe (text=\"\"):\n",
    "    split = text.split(\"Is\")\n",
    "    if split [0] == \"\" and len(split) != 1:\n",
    "        return text\n",
    "    return \"Is\" + text\n",
    "\n",
    "exe (\"\")"
   ]
  },
  {
   "cell_type": "code",
   "execution_count": null,
   "metadata": {},
   "outputs": [
    {
     "name": "stdout",
     "output_type": "stream",
     "text": [
      "test 1 2\n",
      "test 2 2\n"
     ]
    }
   ],
   "source": [
    "#exe 20\n",
    "def stringRepeater ( text='',n=0):\n",
    "    i=1\n",
    "    while i<=n:\n",
    "        print (text, i ,n )\n",
    "        i =i+1\n",
    "\n",
    "stringRepeater(\"test\",2)"
   ]
  },
  {
   "cell_type": "code",
   "execution_count": null,
   "metadata": {},
   "outputs": [
    {
     "name": "stdout",
     "output_type": "stream",
     "text": [
      "zero is a mathematical conundrum\n",
      "3  is odd\n",
      "4  is even\n",
      "5  is odd\n",
      "6  is even\n"
     ]
    }
   ],
   "source": [
    "#exe 21\n",
    "\n",
    "def isEven (n= 0):\n",
    "    if n == 0:\n",
    "        print(\"zero is a mathematical conundrum\")\n",
    "        return\n",
    "    res = n % 2\n",
    "    if res == 0:\n",
    "        print (n ,\" is even\")\n",
    "    else:\n",
    "        print(n, \" is odd\")\n",
    "\n",
    "isEven(0)\n",
    "isEven(3)\n",
    "isEven(4)\n",
    "isEven(5)\n",
    "isEven(6)"
   ]
  }
 ],
 "metadata": {
  "interpreter": {
   "hash": "c08c3e3b61a5474c253276513941a921e568c04ba3ccfae9e370b75969632883"
  },
  "kernelspec": {
   "display_name": "Python 3.8.8 64-bit ('base': conda)",
   "name": "python3"
  },
  "language_info": {
   "codemirror_mode": {
    "name": "ipython",
    "version": 3
   },
   "file_extension": ".py",
   "mimetype": "text/x-python",
   "name": "python",
   "nbconvert_exporter": "python",
   "pygments_lexer": "ipython3",
   "version": "3.8.8"
  }
 },
 "nbformat": 4,
 "nbformat_minor": 2
}

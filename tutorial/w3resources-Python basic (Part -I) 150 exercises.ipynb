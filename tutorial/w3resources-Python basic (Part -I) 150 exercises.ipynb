{
    "cells": [
        {
            "cell_type": "code",
            "execution_count": 4,
            "source": [
                "print(\"Twinkle, twinkle, little star,\\n\\tHow I wonder what you are! \\n\\t\\tUp above the world so high, \\n\\t\\t\\tLike a diamond in the sky. \\nTwinkle, twinkle, little star, \\n\\tHow I wonder what you are\")"
            ],
            "outputs": [
                {
                    "output_type": "stream",
                    "name": "stdout",
                    "text": [
                        "Twinkle, twinkle, little star,\n",
                        "\tHow I wonder what you are! \n",
                        "\t\tUp above the world so high, \n",
                        "\t\t\tLike a diamond in the sky. \n",
                        "Twinkle, twinkle, little star, \n",
                        "\tHow I wonder what you are\n"
                    ]
                }
            ],
            "metadata": {}
        },
        {
            "cell_type": "code",
            "execution_count": 17,
            "source": [
                "import datetime\r\n",
                "\r\n",
                "print(\"the current time is :\")\r\n",
                "\r\n",
                "print(datetime.datetime.now())"
            ],
            "outputs": [
                {
                    "output_type": "stream",
                    "name": "stdout",
                    "text": [
                        "the current time is :\n",
                        "2021-08-18 03:50:42.288970\n"
                    ]
                }
            ],
            "metadata": {}
        }
    ],
    "metadata": {
        "orig_nbformat": 4,
        "language_info": {
            "name": "python",
            "version": "3.8.8",
            "mimetype": "text/x-python",
            "codemirror_mode": {
                "name": "ipython",
                "version": 3
            },
            "pygments_lexer": "ipython3",
            "nbconvert_exporter": "python",
            "file_extension": ".py"
        },
        "kernelspec": {
            "name": "python3",
            "display_name": "Python 3.8.8 64-bit ('base': conda)"
        },
        "interpreter": {
            "hash": "c08c3e3b61a5474c253276513941a921e568c04ba3ccfae9e370b75969632883"
        }
    },
    "nbformat": 4,
    "nbformat_minor": 2
}
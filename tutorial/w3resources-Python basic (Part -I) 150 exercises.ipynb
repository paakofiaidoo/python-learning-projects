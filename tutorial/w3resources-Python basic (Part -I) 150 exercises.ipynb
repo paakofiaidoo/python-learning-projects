{
 "cells": [
  {
   "cell_type": "code",
   "execution_count": null,
   "metadata": {},
   "outputs": [],
   "source": [
    "##exe 1\n",
    "print(\"Twinkle, twinkle, little star,\\n\\tHow I wonder what you are! \\n\\t\\tUp above the world so high, \\n\\t\\t\\tLike a diamond in the sky. \\nTwinkle, twinkle, little star, \\n\\tHow I wonder what you are\")"
   ]
  },
  {
   "cell_type": "code",
   "execution_count": null,
   "metadata": {},
   "outputs": [],
   "source": [
    "##exe 2\n",
    "import sys\n",
    "print('Python version : ',sys.version)\n",
    "\n"
   ]
  },
  {
   "cell_type": "code",
   "execution_count": null,
   "metadata": {},
   "outputs": [],
   "source": [
    "#exe 3\n",
    "import datetime\n",
    "\n",
    "print(\"the current time is :\")\n",
    "\n",
    "print(datetime.datetime.now())"
   ]
  },
  {
   "cell_type": "code",
   "execution_count": null,
   "metadata": {},
   "outputs": [],
   "source": [
    "#exe 4\n",
    "from math import pi\n",
    "\n",
    "print( 'input radius of circle : ')\n",
    "raduis = input()\n",
    "if raduis.isnumeric():\n",
    "    raduis = int(raduis)\n",
    "    area = pi * raduis * raduis\n",
    "    print(\"raduis of circle with radius \"+str(raduis) +\" is \"+str(area))\n",
    "else:\n",
    "    print ('wrong input')"
   ]
  },
  {
   "cell_type": "code",
   "execution_count": null,
   "metadata": {},
   "outputs": [],
   "source": [
    "#exe 5\n",
    "print(\"what is your first name : \")\n",
    "firstName = str(input())\n",
    "print(\"what is your last name : \")\n",
    "lastName = str(input())\n",
    "\n",
    "print(f\"you name is {lastName} {firstName}\")"
   ]
  },
  {
   "cell_type": "code",
   "execution_count": null,
   "metadata": {},
   "outputs": [],
   "source": [
    "#exe 6\n",
    "print(\"input a sequence of comma-separated numbers :\")\n",
    "sequence=input()\n",
    "sequence=sequence.split(\",\")\n",
    "output =[]\n",
    "\n",
    "for val in sequence:\n",
    "    if val.isdigit():\n",
    "        output.append(val)\n",
    "     \n",
    "print(f'List : {output}')\n",
    "print(f\"Tuple {tuple(output)}\")"
   ]
  },
  {
   "cell_type": "code",
   "execution_count": null,
   "metadata": {},
   "outputs": [],
   "source": [
    "#exe 7\n",
    "print('input filename with extention : ')\n",
    "fileName =input().split(\".\")\n",
    "print(fileName[1])\n"
   ]
  },
  {
   "cell_type": "code",
   "execution_count": null,
   "metadata": {},
   "outputs": [],
   "source": [
    "#exe 8\n",
    "color_list = [\"Red\",\"Green\",\"White\" ,\"Black\"]\n",
    "print(color_list[0], color_list[-1])"
   ]
  },
  {
   "cell_type": "code",
   "execution_count": null,
   "metadata": {},
   "outputs": [],
   "source": [
    "#exe 9\n",
    "exam_st_date = (11, 12, 2014)\n",
    "\n",
    "date_str= \"\"\n",
    "\n",
    "for time in exam_st_date:\n",
    "    date_str += str(time)+\" / \"\n",
    "\n",
    "date_str=date_str.strip(\"/ \")\n",
    "\n",
    "print(f\"The examination will start from : {date_str}\"n)"
   ]
  },
  {
   "cell_type": "code",
   "execution_count": null,
   "metadata": {},
   "outputs": [],
   "source": [
    "#exe 10\n",
    "print (\"input interger : \")\n",
    "intger = int(input())\n",
    "def n (x):\n",
    "    return x+x*x+x*x*x\n",
    "\n",
    "print( n(intger))\n"
   ]
  },
  {
   "cell_type": "code",
   "execution_count": null,
   "metadata": {},
   "outputs": [],
   "source": [
    "#exe 11\n",
    "print(help(input(\"input Python built-in function(s)\")))"
   ]
  },
  {
   "cell_type": "code",
   "execution_count": null,
   "metadata": {
    "tags": []
   },
   "outputs": [],
   "source": [
    "#exe 12\n",
    "import calendar\n",
    "calendar.monthcalendar(int(input(\"input the year\")),int(input(\"input the month\")))\n"
   ]
  },
  {
   "cell_type": "code",
   "execution_count": null,
   "metadata": {},
   "outputs": [],
   "source": [
    "#exe 13\n",
    "print(\"\"\"a string that you \"don't\" have to escape\n",
    "This\n",
    "is a ....... multi-line\n",
    "heredoc string --------> example\"\"\")"
   ]
  },
  {
   "cell_type": "code",
   "execution_count": null,
   "metadata": {
    "tags": []
   },
   "outputs": [],
   "source": [
    "#exe 14\n",
    "from datetime import date \n",
    "def subDate(firstDate, lastDate):\n",
    "    (year, month, day)=firstDate\n",
    "    (yearLast, monthLast, dayLast)=lastDate\n",
    "\n",
    "    timeLeft = date(yearLast, monthLast, dayLast) - date(year, month, day)\n",
    "    print(timeLeft)\n",
    "subDate((2014, 7, 2), (2014, 7, 11))"
   ]
  },
  {
   "cell_type": "code",
   "execution_count": null,
   "metadata": {},
   "outputs": [],
   "source": [
    "#exe 15\n",
    "from math import pi\n",
    "def volSphere(radius):\n",
    "    vol = 4/3 * pi * radius**3\n",
    "    return vol\n",
    "\n",
    "print(volSphere(6))"
   ]
  },
  {
   "cell_type": "code",
   "execution_count": null,
   "metadata": {},
   "outputs": [],
   "source": [
    "#exe 16\n",
    "val = int(input(\"input any integer\"))\n",
    "\n",
    "def diff (value):\n",
    "    value =  value - 17\n",
    "    if value > 17:\n",
    "        return value * 2\n",
    "    return value \n",
    "\n",
    "diff(val)"
   ]
  },
  {
   "cell_type": "code",
   "execution_count": null,
   "metadata": {},
   "outputs": [],
   "source": [
    "#exe 17\n",
    "val = int(input(\"input any integer\"))\n",
    "\n",
    "def isBtn(x, start=100, end=2000):\n",
    "    if x>start and x<end:\n",
    "        return \"is in range 100 and 2000\"\n",
    "    return \"is not in range 100 and 2000\"\n",
    "\n",
    "isBtn(val)\n"
   ]
  },
  {
   "cell_type": "code",
   "execution_count": null,
   "metadata": {},
   "outputs": [],
   "source": [
    "#exe 18\n",
    "\n",
    "def sum (first=0, second=0, third=0):\n",
    "    result = first+second+third\n",
    "    if first == second and second == third:\n",
    "        return result * 3\n",
    "    return result\n",
    "sum(3,3,3)\n",
    "    "
   ]
  },
  {
   "cell_type": "code",
   "execution_count": null,
   "metadata": {},
   "outputs": [],
   "source": [
    "#exe 19\n",
    "\n",
    "def exe (text=\"\"):\n",
    "    split = text.split(\"Is\")\n",
    "    if split [0] == \"\" and len(split) != 1:\n",
    "        return text\n",
    "    return \"Is\" + text\n",
    "\n",
    "exe (\"\")"
   ]
  },
  {
   "cell_type": "code",
   "execution_count": null,
   "metadata": {},
   "outputs": [],
   "source": [
    "#exe 20\n",
    "def stringRepeater ( text='',n=0):\n",
    "    i=1\n",
    "    while i<=n:\n",
    "        print (text, i ,n )\n",
    "        i =i+1\n",
    "\n",
    "stringRepeater(\"test\",2)"
   ]
  },
  {
   "cell_type": "code",
   "execution_count": null,
   "metadata": {},
   "outputs": [],
   "source": [
    "#exe 21\n",
    "\n",
    "def isEven (n= 0):\n",
    "    if n == 0:\n",
    "        print(\"zero is a mathematical conundrum\")\n",
    "        return\n",
    "    res = n % 2\n",
    "    if res == 0:\n",
    "        print (n ,\" is even\")\n",
    "    else:\n",
    "        print(n, \" is odd\")\n",
    "\n",
    "isEven(0)\n",
    "isEven(3)\n",
    "isEven(4)\n",
    "isEven(5)\n",
    "isEven(6)"
   ]
  },
  {
   "cell_type": "code",
   "execution_count": null,
   "metadata": {},
   "outputs": [],
   "source": [
    "#exe 22\n",
    "\n",
    "def countFour (list=[]):\n",
    "    total=0\n",
    "    for num in list:\n",
    "        if num == 4:\n",
    "            total +=1\n",
    "    return total\n",
    "\n",
    "print(countFour([1, 4, 6, 4, 7, 4]))"
   ]
  },
  {
   "cell_type": "code",
   "execution_count": null,
   "metadata": {},
   "outputs": [],
   "source": []
  },
  {
   "cell_type": "code",
   "execution_count": null,
   "metadata": {},
   "outputs": [],
   "source": [
    "#exe 24 \n",
    "def isVowel (letter=''):\n",
    "    vowels =[\"a\",'e','i','o','u']\n",
    "    if letter in vowels:\n",
    "        print(\"letter is a vowel \")\n",
    "    else:\n",
    "        print(\"not a vowel\")\n",
    "\n",
    "\n",
    "isVowel('a')"
   ]
  },
  {
   "cell_type": "code",
   "execution_count": null,
   "metadata": {},
   "outputs": [],
   "source": [
    "#exe 25\n",
    "def inList (list=[], value=0):\n",
    "    if value in list :\n",
    "        return True\n",
    "    return False\n",
    "\n",
    "inList([1, 5, 8, 3],1 )"
   ]
  },
  {
   "cell_type": "code",
   "execution_count": null,
   "metadata": {},
   "outputs": [],
   "source": [
    "#exe 26\n",
    "def histogram (list=[]):\n",
    "    for data in list:\n",
    "        i=1\n",
    "        output =\"\"\n",
    "        while i<= data:\n",
    "            output+=\"*\"\n",
    "            i+=1\n",
    "        print(output)\n",
    "\n",
    "histogram([10,3,6,7])"
   ]
  },
  {
   "cell_type": "code",
   "execution_count": 133,
   "metadata": {},
   "outputs": [
    {
     "name": "stdout",
     "output_type": "stream",
     "text": [
      "38646247\n"
     ]
    }
   ],
   "source": [
    "#exe 27\n",
    "def listCon(list=[]):\n",
    "    text =\"\"\n",
    "    for val in list:\n",
    "        text+=str(val)\n",
    "    print (text)\n",
    "\n",
    "listCon([386, 462, 47])"
   ]
  }
 ],
 "metadata": {
  "interpreter": {
   "hash": "c08c3e3b61a5474c253276513941a921e568c04ba3ccfae9e370b75969632883"
  },
  "kernelspec": {
   "display_name": "Python 3.8.8 64-bit ('base': conda)",
   "name": "python3"
  },
  "language_info": {
   "codemirror_mode": {
    "name": "ipython",
    "version": 3
   },
   "file_extension": ".py",
   "mimetype": "text/x-python",
   "name": "python",
   "nbconvert_exporter": "python",
   "pygments_lexer": "ipython3",
   "version": "3.8.8"
  }
 },
 "nbformat": 4,
 "nbformat_minor": 2
}
